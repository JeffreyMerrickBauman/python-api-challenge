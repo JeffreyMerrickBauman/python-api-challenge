{
 "cells": [
  {
   "cell_type": "markdown",
   "metadata": {},
   "source": [
    "# WeatherPy\n",
    "----\n",
    "\n",
    "#### Note\n",
    "* Instructions have been included for each segment. You do not have to follow them exactly, but they are included to help you think through the steps."
   ]
  },
  {
   "cell_type": "code",
   "execution_count": 1,
   "metadata": {},
   "outputs": [],
   "source": [
    "#Data Analysis\n",
    "\n",
    "#One\n",
    "# The closer one gets to the equator the hotter it gets. See Latitude and Temperature.\n",
    "\n",
    "#Two\n",
    "# Near the equator the humidity always seems to be greater than 40%.\n",
    "\n",
    "#Three\n",
    "# There is not a strong correlation between latitude and wind speed and cloudiness."
   ]
  },
  {
   "cell_type": "code",
   "execution_count": 2,
   "metadata": {},
   "outputs": [
    {
     "name": "stdout",
     "output_type": "stream",
     "text": [
      "Requirement already satisfied: citipy in c:\\users\\jeffr\\anaconda3\\lib\\site-packages (0.0.5)\n",
      "Requirement already satisfied: kdtree>=0.12 in c:\\users\\jeffr\\anaconda3\\lib\\site-packages (from citipy) (0.16)\n",
      "Note: you may need to restart the kernel to use updated packages.\n"
     ]
    }
   ],
   "source": [
    "pip install citipy"
   ]
  },
  {
   "cell_type": "code",
   "execution_count": 3,
   "metadata": {},
   "outputs": [
    {
     "data": {
      "text/plain": [
       "datetime.date(2020, 6, 9)"
      ]
     },
     "execution_count": 3,
     "metadata": {},
     "output_type": "execute_result"
    }
   ],
   "source": [
    "from datetime import date\n",
    "date.today()"
   ]
  },
  {
   "cell_type": "code",
   "execution_count": 4,
   "metadata": {
    "scrolled": true
   },
   "outputs": [],
   "source": [
    "# Dependencies and Setup\n",
    "import matplotlib.pyplot as plt\n",
    "import pandas as pd\n",
    "import numpy as np\n",
    "import requests\n",
    "import time\n",
    "from scipy.stats import linregress\n",
    "\n",
    "# Import API key\n",
    "from api_keys import weather_api_key\n",
    "\n",
    "# Incorporated citipy to determine city based on latitude and longitude\n",
    "from citipy import citipy\n",
    "\n",
    "# Output File (CSV)\n",
    "output_data_file = \"output_data/cities.csv\"\n",
    "\n",
    "# Range of latitudes and longitudes\n",
    "lat_range = (-90, 90)\n",
    "lng_range = (-180, 180)"
   ]
  },
  {
   "cell_type": "markdown",
   "metadata": {},
   "source": [
    "## Generate Cities List"
   ]
  },
  {
   "cell_type": "code",
   "execution_count": 5,
   "metadata": {},
   "outputs": [
    {
     "data": {
      "text/plain": [
       "595"
      ]
     },
     "execution_count": 5,
     "metadata": {},
     "output_type": "execute_result"
    }
   ],
   "source": [
    "# List for holding lat_lngs and cities\n",
    "lat_lngs = []\n",
    "cities = []\n",
    "\n",
    "# Create a set of random lat and lng combinations\n",
    "lats = np.random.uniform(lat_range[0], lat_range[1], size=1500)\n",
    "lngs = np.random.uniform(lng_range[0], lng_range[1], size=1500)\n",
    "lat_lngs = zip(lats, lngs)\n",
    "\n",
    "# Identify nearest city for each lat, lng combination\n",
    "for lat_lng in lat_lngs:\n",
    "    city = citipy.nearest_city(lat_lng[0], lat_lng[1]).city_name\n",
    "    \n",
    "    # If the city is unique, then add it to a our cities list\n",
    "    if city not in cities:\n",
    "        cities.append(city)\n",
    "\n",
    "# Print the city count to confirm sufficient count\n",
    "len(cities)"
   ]
  },
  {
   "cell_type": "markdown",
   "metadata": {},
   "source": [
    "### Perform API Calls\n",
    "* Perform a weather check on each city using a series of successive API calls.\n",
    "* Include a print log of each city as it'sbeing processed (with the city number and city name).\n"
   ]
  },
  {
   "cell_type": "code",
   "execution_count": 6,
   "metadata": {},
   "outputs": [
    {
     "name": "stdout",
     "output_type": "stream",
     "text": [
      "City not found. Skipping...\n",
      "Processing Record 2 of 595 | khatanga \n",
      "Processing Record 3 of 595 | cape town \n",
      "Processing Record 4 of 595 | fortuna \n",
      "Processing Record 5 of 595 | tomatlan \n",
      "Processing Record 6 of 595 | provideniya \n",
      "Processing Record 7 of 595 | nizhniy tsasuchey \n",
      "Processing Record 8 of 595 | punta arenas \n",
      "Processing Record 9 of 595 | coos bay \n",
      "Processing Record 10 of 595 | zavetnoye \n",
      "Processing Record 11 of 595 | valle de allende \n",
      "Processing Record 12 of 595 | hay river \n",
      "Processing Record 13 of 595 | komsomolskiy \n",
      "Processing Record 14 of 595 | constitucion \n",
      "Processing Record 15 of 595 | qaanaaq \n",
      "Processing Record 16 of 595 | yellowknife \n",
      "Processing Record 17 of 595 | qinzhou \n",
      "Processing Record 18 of 595 | avarua \n",
      "Processing Record 19 of 595 | port elizabeth \n",
      "Processing Record 20 of 595 | albany \n",
      "Processing Record 21 of 595 | morant bay \n",
      "Processing Record 22 of 595 | flers \n",
      "Processing Record 23 of 595 | acapulco \n",
      "Processing Record 24 of 595 | tayu \n",
      "Processing Record 25 of 595 | cockburn town \n",
      "Processing Record 26 of 595 | new norfolk \n",
      "Processing Record 27 of 595 | rikitea \n",
      "City not found. Skipping...\n",
      "Processing Record 29 of 595 | kaputa \n",
      "Processing Record 30 of 595 | nikolskoye \n",
      "Processing Record 31 of 595 | jinchang \n",
      "City not found. Skipping...\n",
      "City not found. Skipping...\n",
      "City not found. Skipping...\n",
      "Processing Record 35 of 595 | belmonte \n",
      "Processing Record 36 of 595 | guanica \n",
      "City not found. Skipping...\n",
      "Processing Record 38 of 595 | east london \n",
      "Processing Record 39 of 595 | bhag \n",
      "Processing Record 40 of 595 | puerto ayora \n",
      "Processing Record 41 of 595 | bluff \n",
      "Processing Record 42 of 595 | atuona \n",
      "Processing Record 43 of 595 | mataura \n",
      "Processing Record 44 of 595 | saint-philippe \n",
      "Processing Record 45 of 595 | port blair \n",
      "Processing Record 46 of 595 | hobart \n",
      "Processing Record 47 of 595 | hermanus \n",
      "Processing Record 48 of 595 | geraldton \n",
      "Processing Record 49 of 595 | pangnirtung \n",
      "Processing Record 50 of 595 | busselton \n",
      "Processing Record 51 of 595 | clyde river \n",
      "Processing Record 52 of 595 | victoria \n",
      "Processing Record 53 of 595 | barcarena \n",
      "Processing Record 54 of 595 | gamba \n",
      "Processing Record 55 of 595 | logan \n",
      "Processing Record 56 of 595 | jamestown \n",
      "Processing Record 57 of 595 | tilichiki \n",
      "Processing Record 58 of 595 | vila franca do campo \n",
      "Processing Record 59 of 595 | shieli \n",
      "Processing Record 60 of 595 | narsaq \n",
      "Processing Record 61 of 595 | kapaa \n",
      "Processing Record 62 of 595 | port alfred \n",
      "Processing Record 63 of 595 | norman wells \n",
      "Processing Record 64 of 595 | barrow \n",
      "Processing Record 65 of 595 | bethel \n",
      "Processing Record 66 of 595 | ponta delgada \n",
      "Processing Record 67 of 595 | mar del plata \n",
      "Processing Record 68 of 595 | strelka \n",
      "Processing Record 69 of 595 | hilo \n",
      "Processing Record 70 of 595 | megion \n",
      "Processing Record 71 of 595 | mehamn \n",
      "Processing Record 72 of 595 | moyale \n",
      "Processing Record 73 of 595 | warsaw \n",
      "Processing Record 74 of 595 | chicama \n",
      "Processing Record 75 of 595 | husavik \n",
      "Processing Record 76 of 595 | college \n",
      "Processing Record 77 of 595 | georgetown \n",
      "Processing Record 78 of 595 | upata \n",
      "Processing Record 79 of 595 | buraydah \n",
      "Processing Record 80 of 595 | aitape \n",
      "Processing Record 81 of 595 | rawdon \n",
      "City not found. Skipping...\n",
      "City not found. Skipping...\n",
      "Processing Record 84 of 595 | severo-kurilsk \n",
      "Processing Record 85 of 595 | invercargill \n",
      "Processing Record 86 of 595 | palamos \n",
      "Processing Record 87 of 595 | kodiak \n",
      "Processing Record 88 of 595 | portel \n",
      "Processing Record 89 of 595 | coahuayana \n",
      "Processing Record 90 of 595 | terrace bay \n",
      "Processing Record 91 of 595 | tiksi \n",
      "City not found. Skipping...\n",
      "City not found. Skipping...\n",
      "Processing Record 94 of 595 | ushuaia \n",
      "Processing Record 95 of 595 | henties bay \n",
      "Processing Record 96 of 595 | ust-kuyga \n",
      "Processing Record 97 of 595 | castro \n",
      "Processing Record 98 of 595 | hithadhoo \n",
      "Processing Record 99 of 595 | faanui \n",
      "City not found. Skipping...\n",
      "Processing Record 101 of 595 | puerto escondido \n",
      "Processing Record 102 of 595 | chuy \n",
      "Processing Record 103 of 595 | bonavista \n",
      "Processing Record 104 of 595 | grand gaube \n",
      "Processing Record 105 of 595 | chokurdakh \n",
      "Processing Record 106 of 595 | cabo san lucas \n",
      "Processing Record 107 of 595 | mackenzie \n",
      "Processing Record 108 of 595 | kavaratti \n",
      "Processing Record 109 of 595 | aranos \n",
      "City not found. Skipping...\n",
      "Processing Record 111 of 595 | vanino \n",
      "Processing Record 112 of 595 | ostrovnoy \n",
      "Processing Record 113 of 595 | bambous virieux \n",
      "Processing Record 114 of 595 | pipirig \n",
      "Processing Record 115 of 595 | maniitsoq \n",
      "Processing Record 116 of 595 | anton lizardo \n",
      "Processing Record 117 of 595 | huarmey \n",
      "Processing Record 118 of 595 | saskylakh \n",
      "Processing Record 119 of 595 | atbasar \n",
      "Processing Record 120 of 595 | bereslavka \n",
      "City not found. Skipping...\n",
      "Processing Record 122 of 595 | isangel \n",
      "Processing Record 123 of 595 | saravan \n",
      "Processing Record 124 of 595 | erenhot \n",
      "Processing Record 125 of 595 | asha \n",
      "Processing Record 126 of 595 | ilulissat \n",
      "Processing Record 127 of 595 | okha \n",
      "Processing Record 128 of 595 | lebu \n",
      "Processing Record 129 of 595 | sola \n",
      "Processing Record 130 of 595 | kaitangata \n",
      "Processing Record 131 of 595 | sorong \n",
      "Processing Record 132 of 595 | maragogi \n",
      "Processing Record 133 of 595 | garden city \n",
      "Processing Record 134 of 595 | klaksvik \n",
      "City not found. Skipping...\n",
      "Processing Record 136 of 595 | high level \n",
      "Processing Record 137 of 595 | kinsale \n",
      "Processing Record 138 of 595 | ribeira grande \n",
      "Processing Record 139 of 595 | gazanjyk \n",
      "Processing Record 140 of 595 | minna \n",
      "Processing Record 141 of 595 | saldanha \n",
      "City not found. Skipping...\n",
      "Processing Record 143 of 595 | calama \n",
      "Processing Record 144 of 595 | petauke \n",
      "Processing Record 145 of 595 | vaini \n",
      "Processing Record 146 of 595 | port moresby \n",
      "Processing Record 147 of 595 | san patricio \n",
      "Processing Record 148 of 595 | hollins \n",
      "Processing Record 149 of 595 | cabedelo \n",
      "Processing Record 150 of 595 | thompson \n",
      "Processing Record 151 of 595 | upernavik \n",
      "Processing Record 152 of 595 | kemijarvi \n",
      "Processing Record 153 of 595 | carnarvon \n",
      "Processing Record 154 of 595 | nouadhibou \n",
      "Processing Record 155 of 595 | jinxiang \n",
      "Processing Record 156 of 595 | mahebourg \n",
      "Processing Record 157 of 595 | jan kempdorp \n",
      "Processing Record 158 of 595 | oktyabrskoye \n",
      "Processing Record 159 of 595 | tezu \n",
      "City not found. Skipping...\n",
      "Processing Record 161 of 595 | torbay \n",
      "Processing Record 162 of 595 | sapucaia \n",
      "Processing Record 163 of 595 | dikson \n",
      "Processing Record 164 of 595 | tuktoyaktuk \n",
      "Processing Record 165 of 595 | cairns \n",
      "Processing Record 166 of 595 | yaan \n",
      "Processing Record 167 of 595 | sao joao da barra \n",
      "Processing Record 168 of 595 | namibe \n",
      "Processing Record 169 of 595 | lukulu \n",
      "Processing Record 170 of 595 | lubbock \n",
      "Processing Record 171 of 595 | ahipara \n",
      "Processing Record 172 of 595 | rosarito \n",
      "Processing Record 173 of 595 | petatlan \n",
      "Processing Record 174 of 595 | flinders \n",
      "Processing Record 175 of 595 | airai \n",
      "Processing Record 176 of 595 | san cristobal \n",
      "Processing Record 177 of 595 | northam \n",
      "Processing Record 178 of 595 | aasiaat \n",
      "Processing Record 179 of 595 | leo \n",
      "Processing Record 180 of 595 | cabo rojo \n",
      "Processing Record 181 of 595 | kafanchan \n",
      "Processing Record 182 of 595 | saint george \n",
      "Processing Record 183 of 595 | itupiranga \n",
      "Processing Record 184 of 595 | el ocotito \n",
      "Processing Record 185 of 595 | vanimo \n",
      "Processing Record 186 of 595 | norsup \n",
      "Processing Record 187 of 595 | parana \n",
      "Processing Record 188 of 595 | kodarma \n",
      "Processing Record 189 of 595 | pemangkat \n",
      "Processing Record 190 of 595 | esperance \n",
      "Processing Record 191 of 595 | mount gambier \n",
      "Processing Record 192 of 595 | olafsvik \n",
      "Processing Record 193 of 595 | flin flon \n",
      "Processing Record 194 of 595 | mahibadhoo \n",
      "Processing Record 195 of 595 | broome \n",
      "Processing Record 196 of 595 | placido de castro \n",
      "Processing Record 197 of 595 | anahuac \n",
      "Processing Record 198 of 595 | vardo \n",
      "Processing Record 199 of 595 | portland \n",
      "Processing Record 200 of 595 | bubaque \n",
      "Processing Record 201 of 595 | tessalit \n",
      "Processing Record 202 of 595 | pisco \n",
      "Processing Record 203 of 595 | hovd \n",
      "Processing Record 204 of 595 | copiapo \n",
      "Processing Record 205 of 595 | madimba \n"
     ]
    },
    {
     "name": "stdout",
     "output_type": "stream",
     "text": [
      "Processing Record 206 of 595 | ambanja \n",
      "Processing Record 207 of 595 | cabot \n",
      "Processing Record 208 of 595 | itoman \n",
      "Processing Record 209 of 595 | tuzha \n",
      "Processing Record 210 of 595 | farah \n",
      "Processing Record 211 of 595 | nanortalik \n",
      "Processing Record 212 of 595 | arraial do cabo \n",
      "Processing Record 213 of 595 | nizhneangarsk \n",
      "Processing Record 214 of 595 | mayo \n",
      "Processing Record 215 of 595 | santiago del estero \n",
      "Processing Record 216 of 595 | puksoozero \n",
      "Processing Record 217 of 595 | roebourne \n",
      "Processing Record 218 of 595 | praya \n",
      "Processing Record 219 of 595 | portales \n",
      "Processing Record 220 of 595 | xinzhou \n",
      "Processing Record 221 of 595 | santa isabel do rio negro \n",
      "Processing Record 222 of 595 | touros \n",
      "Processing Record 223 of 595 | margate \n",
      "Processing Record 224 of 595 | sambava \n",
      "Processing Record 225 of 595 | charlestown \n",
      "City not found. Skipping...\n",
      "Processing Record 227 of 595 | viransehir \n",
      "Processing Record 228 of 595 | libertador general san martin \n",
      "Processing Record 229 of 595 | shushenskoye \n",
      "Processing Record 230 of 595 | bredasdorp \n",
      "Processing Record 231 of 595 | masumbwe \n",
      "Processing Record 232 of 595 | naze \n",
      "Processing Record 233 of 595 | golden \n",
      "Processing Record 234 of 595 | ancud \n",
      "Processing Record 235 of 595 | petropavlovka \n",
      "Processing Record 236 of 595 | carballo \n",
      "Processing Record 237 of 595 | pacific grove \n",
      "Processing Record 238 of 595 | huayang \n",
      "Processing Record 239 of 595 | souillac \n",
      "Processing Record 240 of 595 | mao \n",
      "Processing Record 241 of 595 | beringovskiy \n",
      "Processing Record 242 of 595 | taree \n",
      "City not found. Skipping...\n",
      "Processing Record 244 of 595 | aykhal \n",
      "Processing Record 245 of 595 | buala \n",
      "Processing Record 246 of 595 | junction city \n",
      "Processing Record 247 of 595 | yangjiang \n",
      "Processing Record 248 of 595 | agropoli \n",
      "Processing Record 249 of 595 | nisia floresta \n",
      "Processing Record 250 of 595 | ixtapa \n",
      "Processing Record 251 of 595 | maksatikha \n",
      "Processing Record 252 of 595 | parry sound \n",
      "Processing Record 253 of 595 | xochistlahuaca \n",
      "Processing Record 254 of 595 | blythe \n",
      "Processing Record 255 of 595 | pascagoula \n",
      "Processing Record 256 of 595 | emmett \n",
      "Processing Record 257 of 595 | leshukonskoye \n",
      "Processing Record 258 of 595 | mackay \n",
      "City not found. Skipping...\n",
      "Processing Record 260 of 595 | thanh hoa \n",
      "City not found. Skipping...\n",
      "Processing Record 262 of 595 | batagay \n",
      "Processing Record 263 of 595 | edgewater \n",
      "Processing Record 264 of 595 | tulu bolo \n",
      "Processing Record 265 of 595 | lalitpur \n",
      "Processing Record 266 of 595 | strezhevoy \n",
      "Processing Record 267 of 595 | yar-sale \n",
      "Processing Record 268 of 595 | rio gallegos \n",
      "Processing Record 269 of 595 | nome \n",
      "City not found. Skipping...\n",
      "Processing Record 271 of 595 | kahului \n",
      "Processing Record 272 of 595 | faya \n",
      "Processing Record 273 of 595 | surt \n",
      "Processing Record 274 of 595 | ambon \n",
      "City not found. Skipping...\n",
      "Processing Record 276 of 595 | longyearbyen \n",
      "Processing Record 277 of 595 | zalantun \n",
      "Processing Record 278 of 595 | nicoya \n",
      "Processing Record 279 of 595 | saint-michel-des-saints \n",
      "Processing Record 280 of 595 | ishigaki \n",
      "City not found. Skipping...\n",
      "Processing Record 282 of 595 | yulara \n",
      "Processing Record 283 of 595 | stokmarknes \n",
      "Processing Record 284 of 595 | pevek \n",
      "Processing Record 285 of 595 | brae \n",
      "Processing Record 286 of 595 | mildura \n",
      "Processing Record 287 of 595 | saint-omer \n",
      "Processing Record 288 of 595 | lima \n",
      "Processing Record 289 of 595 | kemin \n",
      "Processing Record 290 of 595 | teknaf \n",
      "Processing Record 291 of 595 | sitka \n",
      "Processing Record 292 of 595 | leh \n",
      "Processing Record 293 of 595 | cayenne \n",
      "Processing Record 294 of 595 | mucuri \n",
      "Processing Record 295 of 595 | broken hill \n",
      "Processing Record 296 of 595 | sao joao batista \n",
      "Processing Record 297 of 595 | bonthe \n",
      "Processing Record 298 of 595 | adrar \n",
      "Processing Record 299 of 595 | starozhilovo \n",
      "Processing Record 300 of 595 | olinda \n",
      "City not found. Skipping...\n",
      "Processing Record 302 of 595 | saint-joseph \n",
      "Processing Record 303 of 595 | mragowo \n",
      "Processing Record 304 of 595 | kodinsk \n",
      "Processing Record 305 of 595 | pontianak \n",
      "Processing Record 306 of 595 | viedma \n",
      "Processing Record 307 of 595 | cap-aux-meules \n",
      "Processing Record 308 of 595 | mooresville \n",
      "Processing Record 309 of 595 | liverpool \n",
      "Processing Record 310 of 595 | monrovia \n",
      "Processing Record 311 of 595 | paamiut \n",
      "Processing Record 312 of 595 | sept-iles \n",
      "Processing Record 313 of 595 | japura \n",
      "Processing Record 314 of 595 | iqaluit \n",
      "Processing Record 315 of 595 | cesky dub \n",
      "Processing Record 316 of 595 | beyneu \n",
      "Processing Record 317 of 595 | dukat \n",
      "Processing Record 318 of 595 | baghmara \n",
      "Processing Record 319 of 595 | saint-pierre \n",
      "Processing Record 320 of 595 | taunggyi \n",
      "Processing Record 321 of 595 | andenes \n",
      "Processing Record 322 of 595 | kijang \n",
      "Processing Record 323 of 595 | port hedland \n",
      "Processing Record 324 of 595 | oregon city \n",
      "Processing Record 325 of 595 | hamilton \n",
      "Processing Record 326 of 595 | labuhan \n",
      "Processing Record 327 of 595 | palmer \n",
      "Processing Record 328 of 595 | srednekolymsk \n",
      "Processing Record 329 of 595 | cherskiy \n",
      "City not found. Skipping...\n",
      "Processing Record 331 of 595 | saint-augustin \n",
      "Processing Record 332 of 595 | gorbatov \n",
      "Processing Record 333 of 595 | sechura \n",
      "Processing Record 334 of 595 | lakheri \n",
      "Processing Record 335 of 595 | nipawin \n",
      "Processing Record 336 of 595 | vostok \n",
      "Processing Record 337 of 595 | jiayuguan \n",
      "Processing Record 338 of 595 | harper \n",
      "Processing Record 339 of 595 | maningrida \n",
      "Processing Record 340 of 595 | ivybridge \n",
      "Processing Record 341 of 595 | gold coast \n",
      "Processing Record 342 of 595 | chukhloma \n",
      "Processing Record 343 of 595 | tasiilaq \n",
      "Processing Record 344 of 595 | alice springs \n",
      "Processing Record 345 of 595 | raul soares \n",
      "Processing Record 346 of 595 | esperantinopolis \n",
      "Processing Record 347 of 595 | gradignan \n",
      "Processing Record 348 of 595 | redwater \n",
      "Processing Record 349 of 595 | butaritari \n",
      "Processing Record 350 of 595 | bandarbeyla \n",
      "Processing Record 351 of 595 | umea \n",
      "Processing Record 352 of 595 | caravelas \n",
      "Processing Record 353 of 595 | axim \n",
      "Processing Record 354 of 595 | bilibino \n",
      "Processing Record 355 of 595 | sai buri \n",
      "Processing Record 356 of 595 | xiaoweizhai \n",
      "Processing Record 357 of 595 | houma \n",
      "Processing Record 358 of 595 | batemans bay \n",
      "City not found. Skipping...\n",
      "Processing Record 360 of 595 | haines junction \n",
      "Processing Record 361 of 595 | seymour \n",
      "Processing Record 362 of 595 | palu \n",
      "Processing Record 363 of 595 | dingle \n",
      "Processing Record 364 of 595 | luis gil perez \n",
      "Processing Record 365 of 595 | praia \n",
      "Processing Record 366 of 595 | bairiki \n",
      "Processing Record 367 of 595 | coihaique \n",
      "Processing Record 368 of 595 | chandur \n",
      "Processing Record 369 of 595 | sokoni \n",
      "Processing Record 370 of 595 | rio grande \n",
      "Processing Record 371 of 595 | la vega \n",
      "Processing Record 372 of 595 | kushima \n",
      "Processing Record 373 of 595 | quatre cocos \n",
      "Processing Record 374 of 595 | sayat \n",
      "Processing Record 375 of 595 | ponta do sol \n",
      "Processing Record 376 of 595 | gorontalo \n",
      "Processing Record 377 of 595 | guerrero negro \n",
      "Processing Record 378 of 595 | bilma \n",
      "City not found. Skipping...\n",
      "Processing Record 380 of 595 | sao miguel do araguaia \n",
      "City not found. Skipping...\n",
      "Processing Record 382 of 595 | jasper \n",
      "Processing Record 383 of 595 | kruisfontein \n",
      "Processing Record 384 of 595 | lorengau \n",
      "Processing Record 385 of 595 | loharu \n",
      "Processing Record 386 of 595 | kanigiri \n",
      "Processing Record 387 of 595 | kutum \n",
      "Processing Record 388 of 595 | tagusao \n",
      "Processing Record 389 of 595 | emerald \n",
      "Processing Record 390 of 595 | altay \n",
      "Processing Record 391 of 595 | ballina \n",
      "Processing Record 392 of 595 | pasighat \n",
      "Processing Record 393 of 595 | bengkulu \n",
      "Processing Record 394 of 595 | lasa \n",
      "Processing Record 395 of 595 | egvekinot \n",
      "Processing Record 396 of 595 | kharp \n",
      "City not found. Skipping...\n",
      "Processing Record 398 of 595 | warner robins \n",
      "Processing Record 399 of 595 | tabriz \n",
      "Processing Record 400 of 595 | vagay \n",
      "Processing Record 401 of 595 | pyinmana \n",
      "Processing Record 402 of 595 | constantine \n",
      "Processing Record 403 of 595 | talnakh \n",
      "Processing Record 404 of 595 | salina \n",
      "Processing Record 405 of 595 | kasongo-lunda \n",
      "Processing Record 406 of 595 | acajutla \n"
     ]
    },
    {
     "name": "stdout",
     "output_type": "stream",
     "text": [
      "Processing Record 407 of 595 | tual \n",
      "Processing Record 408 of 595 | belaya gora \n",
      "Processing Record 409 of 595 | port hardy \n",
      "Processing Record 410 of 595 | sawtell \n",
      "Processing Record 411 of 595 | icod de los vinos \n",
      "Processing Record 412 of 595 | tahe \n",
      "Processing Record 413 of 595 | kirakira \n",
      "Processing Record 414 of 595 | ledyard \n",
      "Processing Record 415 of 595 | tromso \n",
      "Processing Record 416 of 595 | furukawa \n",
      "Processing Record 417 of 595 | concepcion del oro \n",
      "Processing Record 418 of 595 | krasnoturansk \n",
      "Processing Record 419 of 595 | goma \n",
      "City not found. Skipping...\n",
      "Processing Record 421 of 595 | san jeronimo \n",
      "Processing Record 422 of 595 | vao \n",
      "Processing Record 423 of 595 | korla \n",
      "Processing Record 424 of 595 | lokoja \n",
      "Processing Record 425 of 595 | fethiye \n",
      "Processing Record 426 of 595 | marsh harbour \n",
      "Processing Record 427 of 595 | ranong \n",
      "Processing Record 428 of 595 | sur \n",
      "Processing Record 429 of 595 | camana \n",
      "Processing Record 430 of 595 | fort nelson \n",
      "Processing Record 431 of 595 | okhotsk \n",
      "Processing Record 432 of 595 | kuala terengganu \n",
      "Processing Record 433 of 595 | ingham \n",
      "Processing Record 434 of 595 | lompoc \n",
      "Processing Record 435 of 595 | lagoa \n",
      "Processing Record 436 of 595 | tabou \n",
      "Processing Record 437 of 595 | westport \n",
      "Processing Record 438 of 595 | saijo \n",
      "Processing Record 439 of 595 | severka \n",
      "Processing Record 440 of 595 | luena \n",
      "Processing Record 441 of 595 | gat \n",
      "Processing Record 442 of 595 | chumikan \n",
      "Processing Record 443 of 595 | san jose del potrero \n",
      "Processing Record 444 of 595 | luderitz \n",
      "Processing Record 445 of 595 | loiza \n",
      "Processing Record 446 of 595 | turukhansk \n",
      "Processing Record 447 of 595 | kavieng \n",
      "Processing Record 448 of 595 | jalu \n",
      "Processing Record 449 of 595 | bourail \n",
      "Processing Record 450 of 595 | zyrardow \n",
      "City not found. Skipping...\n",
      "Processing Record 452 of 595 | missouri city \n",
      "Processing Record 453 of 595 | khowai \n",
      "Processing Record 454 of 595 | fairbanks \n",
      "Processing Record 455 of 595 | budapest \n",
      "City not found. Skipping...\n",
      "Processing Record 457 of 595 | bobbili \n",
      "Processing Record 458 of 595 | potosi \n",
      "Processing Record 459 of 595 | dunedin \n",
      "Processing Record 460 of 595 | almeirim \n",
      "Processing Record 461 of 595 | padang \n",
      "Processing Record 462 of 595 | leningradskiy \n",
      "Processing Record 463 of 595 | goderich \n",
      "Processing Record 464 of 595 | zhanaozen \n",
      "Processing Record 465 of 595 | san quintin \n",
      "Processing Record 466 of 595 | pangai \n",
      "Processing Record 467 of 595 | avera \n",
      "Processing Record 468 of 595 | christchurch \n",
      "Processing Record 469 of 595 | hami \n",
      "Processing Record 470 of 595 | sao filipe \n",
      "Processing Record 471 of 595 | pangody \n",
      "Processing Record 472 of 595 | rocha \n",
      "Processing Record 473 of 595 | noumea \n",
      "Processing Record 474 of 595 | bollnas \n",
      "Processing Record 475 of 595 | saint-francois \n",
      "Processing Record 476 of 595 | triunfo \n",
      "Processing Record 477 of 595 | imbituba \n",
      "Processing Record 478 of 595 | aksarka \n",
      "Processing Record 479 of 595 | soron \n",
      "Processing Record 480 of 595 | bismarck \n",
      "Processing Record 481 of 595 | kainantu \n",
      "Processing Record 482 of 595 | fountain \n",
      "City not found. Skipping...\n",
      "Processing Record 484 of 595 | tuy hoa \n",
      "Processing Record 485 of 595 | hofn \n",
      "City not found. Skipping...\n",
      "Processing Record 487 of 595 | aguimes \n",
      "Processing Record 488 of 595 | pasarkemis \n",
      "Processing Record 489 of 595 | kailua \n",
      "Processing Record 490 of 595 | kupang \n",
      "Processing Record 491 of 595 | menongue \n",
      "Processing Record 492 of 595 | aklavik \n",
      "City not found. Skipping...\n",
      "City not found. Skipping...\n",
      "Processing Record 495 of 595 | mount isa \n",
      "Processing Record 496 of 595 | camrose \n",
      "Processing Record 497 of 595 | havre-saint-pierre \n",
      "Processing Record 498 of 595 | batagay-alyta \n",
      "Processing Record 499 of 595 | barcelos \n",
      "Processing Record 500 of 595 | katsuura \n",
      "City not found. Skipping...\n",
      "Processing Record 502 of 595 | douglas \n",
      "City not found. Skipping...\n",
      "Processing Record 504 of 595 | milkovo \n",
      "Processing Record 505 of 595 | taoudenni \n",
      "Processing Record 506 of 595 | muros \n",
      "Processing Record 507 of 595 | javanrud \n",
      "Processing Record 508 of 595 | inirida \n",
      "City not found. Skipping...\n",
      "City not found. Skipping...\n",
      "City not found. Skipping...\n",
      "Processing Record 512 of 595 | vasilyevo \n",
      "Processing Record 513 of 595 | dudinka \n",
      "Processing Record 514 of 595 | kristiansund \n",
      "Processing Record 515 of 595 | port macquarie \n",
      "Processing Record 516 of 595 | parabel \n",
      "Processing Record 517 of 595 | necochea \n",
      "Processing Record 518 of 595 | the valley \n",
      "Processing Record 519 of 595 | litovko \n",
      "Processing Record 520 of 595 | jumla \n",
      "Processing Record 521 of 595 | laguna \n",
      "Processing Record 522 of 595 | male \n",
      "City not found. Skipping...\n",
      "Processing Record 524 of 595 | puebla \n",
      "Processing Record 525 of 595 | brusque \n",
      "Processing Record 526 of 595 | qaqortoq \n",
      "Processing Record 527 of 595 | maumere \n",
      "Processing Record 528 of 595 | arawa \n",
      "Processing Record 529 of 595 | tramandai \n",
      "Processing Record 530 of 595 | impfondo \n",
      "Processing Record 531 of 595 | aldan \n",
      "Processing Record 532 of 595 | el espino \n",
      "Processing Record 533 of 595 | santa luzia \n",
      "Processing Record 534 of 595 | sarh \n",
      "Processing Record 535 of 595 | eureka \n",
      "Processing Record 536 of 595 | mareeba \n",
      "Processing Record 537 of 595 | srivardhan \n",
      "Processing Record 538 of 595 | kyabram \n",
      "Processing Record 539 of 595 | bela \n",
      "Processing Record 540 of 595 | poya \n",
      "Processing Record 541 of 595 | tura \n",
      "Processing Record 542 of 595 | ugoofaaru \n",
      "Processing Record 543 of 595 | narrabri \n",
      "Processing Record 544 of 595 | tuatapere \n",
      "Processing Record 545 of 595 | calderitas \n",
      "Processing Record 546 of 595 | conceicao do araguaia \n",
      "Processing Record 547 of 595 | paragominas \n",
      "Processing Record 548 of 595 | udachnyy \n",
      "City not found. Skipping...\n",
      "Processing Record 550 of 595 | inverell \n",
      "Processing Record 551 of 595 | acarau \n",
      "Processing Record 552 of 595 | coquimbo \n",
      "City not found. Skipping...\n",
      "City not found. Skipping...\n",
      "Processing Record 555 of 595 | chitungwiza \n",
      "Processing Record 556 of 595 | sobolevo \n",
      "Processing Record 557 of 595 | bathsheba \n",
      "City not found. Skipping...\n",
      "Processing Record 559 of 595 | le port \n",
      "Processing Record 560 of 595 | kaifeng \n",
      "Processing Record 561 of 595 | victor harbor \n",
      "Processing Record 562 of 595 | kharitonovo \n",
      "Processing Record 563 of 595 | neuquen \n",
      "Processing Record 564 of 595 | stephenville \n",
      "Processing Record 565 of 595 | ardalstangen \n",
      "Processing Record 566 of 595 | grand forks \n",
      "City not found. Skipping...\n",
      "Processing Record 568 of 595 | barabai \n",
      "Processing Record 569 of 595 | chak jhumra \n",
      "Processing Record 570 of 595 | marawi \n",
      "Processing Record 571 of 595 | arrecife \n",
      "Processing Record 572 of 595 | hambantota \n",
      "Processing Record 573 of 595 | sunbury \n",
      "Processing Record 574 of 595 | dossor \n",
      "Processing Record 575 of 595 | mpwapwa \n",
      "Processing Record 576 of 595 | benguela \n",
      "Processing Record 577 of 595 | santa teresa \n",
      "Processing Record 578 of 595 | zhanakorgan \n",
      "Processing Record 579 of 595 | yantzaza \n",
      "Processing Record 580 of 595 | george town \n",
      "Processing Record 581 of 595 | dawlatabad \n",
      "City not found. Skipping...\n",
      "City not found. Skipping...\n",
      "Processing Record 584 of 595 | nhulunbuy \n",
      "Processing Record 585 of 595 | nitchidorf \n",
      "Processing Record 586 of 595 | gallup \n",
      "City not found. Skipping...\n",
      "Processing Record 588 of 595 | youghal \n",
      "City not found. Skipping...\n",
      "Processing Record 590 of 595 | jackson \n",
      "Processing Record 591 of 595 | yumen \n",
      "Processing Record 592 of 595 | hasaki \n",
      "Processing Record 593 of 595 | syracuse \n",
      "City not found. Skipping...\n",
      "City not found. Skipping...\n",
      "Data Retrieval Comoplete\n"
     ]
    }
   ],
   "source": [
    "#URL for Open Weather API Requests\n",
    "url = \"http://api.openweathermap.org/data/2.5/weather?\"\n",
    "\n",
    "Humidity = []\n",
    "Temperature = []\n",
    "Cloudiness = []\n",
    "WindSpeed = []\n",
    "Latitude = []\n",
    "Longitude = []\n",
    "cities_2 = []\n",
    "a = 0\n",
    "\n",
    "# Build query URL\n",
    "\n",
    "for x in cities:\n",
    "\n",
    "    a = a + 1\n",
    "    query_url = url + \"appid=\" + weather_api_key + \"&q=\" + x\n",
    "    weather_response = requests.get(query_url)\n",
    "    weather_json = weather_response.json()\n",
    "    \n",
    "    if weather_json[\"cod\"] != \"404\":      \n",
    "        Humidity.append(weather_json[\"main\"][\"humidity\"])\n",
    "        preround = ((weather_json[\"main\"][\"temp\"]) - 273.15)*(9/5)+32\n",
    "        preround = round(preround,2)\n",
    "        Temperature.append(preround)\n",
    "        Latitude.append(weather_json[\"coord\"][\"lat\"])\n",
    "        Longitude.append(weather_json[\"coord\"][\"lon\"])\n",
    "        Cloudiness.append(weather_json[\"clouds\"][\"all\"])\n",
    "        WindSpeed.append(weather_json[\"wind\"][\"speed\"])\n",
    "        cities_2.append(x)\n",
    "        print(f\"Processing Record {a} of {len(cities)} | {x} \")\n",
    "\n",
    "    if weather_json[\"cod\"] == \"404\":\n",
    "        print(\"City not found. Skipping...\")\n",
    "\n",
    "print(\"Data Retrieval Comoplete\")"
   ]
  },
  {
   "cell_type": "code",
   "execution_count": 7,
   "metadata": {},
   "outputs": [
    {
     "data": {
      "text/html": [
       "<div>\n",
       "<style scoped>\n",
       "    .dataframe tbody tr th:only-of-type {\n",
       "        vertical-align: middle;\n",
       "    }\n",
       "\n",
       "    .dataframe tbody tr th {\n",
       "        vertical-align: top;\n",
       "    }\n",
       "\n",
       "    .dataframe thead th {\n",
       "        text-align: right;\n",
       "    }\n",
       "</style>\n",
       "<table border=\"1\" class=\"dataframe\">\n",
       "  <thead>\n",
       "    <tr style=\"text-align: right;\">\n",
       "      <th></th>\n",
       "      <th>City</th>\n",
       "      <th>Latitude</th>\n",
       "      <th>Longitude</th>\n",
       "      <th>Temperature</th>\n",
       "      <th>Humidity</th>\n",
       "      <th>Cloudiness</th>\n",
       "      <th>Wind Speed</th>\n",
       "    </tr>\n",
       "  </thead>\n",
       "  <tbody>\n",
       "    <tr>\n",
       "      <th>0</th>\n",
       "      <td>khatanga</td>\n",
       "      <td>71.97</td>\n",
       "      <td>102.50</td>\n",
       "      <td>59.63</td>\n",
       "      <td>31</td>\n",
       "      <td>9</td>\n",
       "      <td>5.58</td>\n",
       "    </tr>\n",
       "    <tr>\n",
       "      <th>1</th>\n",
       "      <td>cape town</td>\n",
       "      <td>-33.93</td>\n",
       "      <td>18.42</td>\n",
       "      <td>57.25</td>\n",
       "      <td>87</td>\n",
       "      <td>75</td>\n",
       "      <td>11.30</td>\n",
       "    </tr>\n",
       "    <tr>\n",
       "      <th>2</th>\n",
       "      <td>fortuna</td>\n",
       "      <td>40.60</td>\n",
       "      <td>-124.16</td>\n",
       "      <td>59.50</td>\n",
       "      <td>100</td>\n",
       "      <td>1</td>\n",
       "      <td>4.10</td>\n",
       "    </tr>\n",
       "    <tr>\n",
       "      <th>3</th>\n",
       "      <td>tomatlan</td>\n",
       "      <td>19.93</td>\n",
       "      <td>-105.25</td>\n",
       "      <td>74.95</td>\n",
       "      <td>84</td>\n",
       "      <td>60</td>\n",
       "      <td>1.24</td>\n",
       "    </tr>\n",
       "    <tr>\n",
       "      <th>4</th>\n",
       "      <td>provideniya</td>\n",
       "      <td>64.38</td>\n",
       "      <td>-173.30</td>\n",
       "      <td>50.00</td>\n",
       "      <td>71</td>\n",
       "      <td>0</td>\n",
       "      <td>3.00</td>\n",
       "    </tr>\n",
       "  </tbody>\n",
       "</table>\n",
       "</div>"
      ],
      "text/plain": [
       "          City  Latitude  Longitude  Temperature  Humidity  Cloudiness  \\\n",
       "0     khatanga     71.97     102.50        59.63        31           9   \n",
       "1    cape town    -33.93      18.42        57.25        87          75   \n",
       "2      fortuna     40.60    -124.16        59.50       100           1   \n",
       "3     tomatlan     19.93    -105.25        74.95        84          60   \n",
       "4  provideniya     64.38    -173.30        50.00        71           0   \n",
       "\n",
       "   Wind Speed  \n",
       "0        5.58  \n",
       "1       11.30  \n",
       "2        4.10  \n",
       "3        1.24  \n",
       "4        3.00  "
      ]
     },
     "execution_count": 7,
     "metadata": {},
     "output_type": "execute_result"
    }
   ],
   "source": [
    "Weather_df = pd.DataFrame({\"City\": cities_2, \"Latitude\" : Latitude, \"Longitude\": Longitude, \n",
    "                           \"Temperature\": Temperature, \"Humidity\": Humidity, \"Cloudiness\": Cloudiness,\n",
    "                          \"Wind Speed\": WindSpeed})\n",
    "\n",
    "Weather_df.head()    \n"
   ]
  },
  {
   "cell_type": "markdown",
   "metadata": {},
   "source": [
    "### Convert Raw Data to DataFrame\n",
    "* Export the city data into a .csv.\n",
    "* Display the DataFrame"
   ]
  },
  {
   "cell_type": "code",
   "execution_count": 8,
   "metadata": {},
   "outputs": [
    {
     "data": {
      "text/plain": [
       "542"
      ]
     },
     "execution_count": 8,
     "metadata": {},
     "output_type": "execute_result"
    }
   ],
   "source": [
    "Weather_df.to_csv(\"City_Data_1.csv\")\n",
    "len(Weather_df)"
   ]
  },
  {
   "cell_type": "code",
   "execution_count": 9,
   "metadata": {},
   "outputs": [
    {
     "data": {
      "text/html": [
       "<div>\n",
       "<style scoped>\n",
       "    .dataframe tbody tr th:only-of-type {\n",
       "        vertical-align: middle;\n",
       "    }\n",
       "\n",
       "    .dataframe tbody tr th {\n",
       "        vertical-align: top;\n",
       "    }\n",
       "\n",
       "    .dataframe thead th {\n",
       "        text-align: right;\n",
       "    }\n",
       "</style>\n",
       "<table border=\"1\" class=\"dataframe\">\n",
       "  <thead>\n",
       "    <tr style=\"text-align: right;\">\n",
       "      <th></th>\n",
       "      <th>City</th>\n",
       "      <th>Latitude</th>\n",
       "      <th>Longitude</th>\n",
       "      <th>Temperature</th>\n",
       "      <th>Humidity</th>\n",
       "      <th>Cloudiness</th>\n",
       "      <th>Wind Speed</th>\n",
       "    </tr>\n",
       "  </thead>\n",
       "  <tbody>\n",
       "    <tr>\n",
       "      <th>0</th>\n",
       "      <td>khatanga</td>\n",
       "      <td>71.97</td>\n",
       "      <td>102.50</td>\n",
       "      <td>59.63</td>\n",
       "      <td>31</td>\n",
       "      <td>9</td>\n",
       "      <td>5.58</td>\n",
       "    </tr>\n",
       "    <tr>\n",
       "      <th>1</th>\n",
       "      <td>cape town</td>\n",
       "      <td>-33.93</td>\n",
       "      <td>18.42</td>\n",
       "      <td>57.25</td>\n",
       "      <td>87</td>\n",
       "      <td>75</td>\n",
       "      <td>11.30</td>\n",
       "    </tr>\n",
       "    <tr>\n",
       "      <th>2</th>\n",
       "      <td>fortuna</td>\n",
       "      <td>40.60</td>\n",
       "      <td>-124.16</td>\n",
       "      <td>59.50</td>\n",
       "      <td>100</td>\n",
       "      <td>1</td>\n",
       "      <td>4.10</td>\n",
       "    </tr>\n",
       "    <tr>\n",
       "      <th>3</th>\n",
       "      <td>tomatlan</td>\n",
       "      <td>19.93</td>\n",
       "      <td>-105.25</td>\n",
       "      <td>74.95</td>\n",
       "      <td>84</td>\n",
       "      <td>60</td>\n",
       "      <td>1.24</td>\n",
       "    </tr>\n",
       "    <tr>\n",
       "      <th>4</th>\n",
       "      <td>provideniya</td>\n",
       "      <td>64.38</td>\n",
       "      <td>-173.30</td>\n",
       "      <td>50.00</td>\n",
       "      <td>71</td>\n",
       "      <td>0</td>\n",
       "      <td>3.00</td>\n",
       "    </tr>\n",
       "    <tr>\n",
       "      <th>...</th>\n",
       "      <td>...</td>\n",
       "      <td>...</td>\n",
       "      <td>...</td>\n",
       "      <td>...</td>\n",
       "      <td>...</td>\n",
       "      <td>...</td>\n",
       "      <td>...</td>\n",
       "    </tr>\n",
       "    <tr>\n",
       "      <th>537</th>\n",
       "      <td>youghal</td>\n",
       "      <td>51.95</td>\n",
       "      <td>-7.85</td>\n",
       "      <td>54.23</td>\n",
       "      <td>93</td>\n",
       "      <td>75</td>\n",
       "      <td>2.60</td>\n",
       "    </tr>\n",
       "    <tr>\n",
       "      <th>538</th>\n",
       "      <td>jackson</td>\n",
       "      <td>42.42</td>\n",
       "      <td>-122.83</td>\n",
       "      <td>72.54</td>\n",
       "      <td>41</td>\n",
       "      <td>20</td>\n",
       "      <td>3.60</td>\n",
       "    </tr>\n",
       "    <tr>\n",
       "      <th>539</th>\n",
       "      <td>yumen</td>\n",
       "      <td>40.28</td>\n",
       "      <td>97.20</td>\n",
       "      <td>80.04</td>\n",
       "      <td>13</td>\n",
       "      <td>100</td>\n",
       "      <td>7.56</td>\n",
       "    </tr>\n",
       "    <tr>\n",
       "      <th>540</th>\n",
       "      <td>hasaki</td>\n",
       "      <td>35.73</td>\n",
       "      <td>140.83</td>\n",
       "      <td>88.32</td>\n",
       "      <td>48</td>\n",
       "      <td>20</td>\n",
       "      <td>7.20</td>\n",
       "    </tr>\n",
       "    <tr>\n",
       "      <th>541</th>\n",
       "      <td>syracuse</td>\n",
       "      <td>37.09</td>\n",
       "      <td>15.28</td>\n",
       "      <td>59.00</td>\n",
       "      <td>77</td>\n",
       "      <td>2</td>\n",
       "      <td>3.10</td>\n",
       "    </tr>\n",
       "  </tbody>\n",
       "</table>\n",
       "<p>542 rows × 7 columns</p>\n",
       "</div>"
      ],
      "text/plain": [
       "            City  Latitude  Longitude  Temperature  Humidity  Cloudiness  \\\n",
       "0       khatanga     71.97     102.50        59.63        31           9   \n",
       "1      cape town    -33.93      18.42        57.25        87          75   \n",
       "2        fortuna     40.60    -124.16        59.50       100           1   \n",
       "3       tomatlan     19.93    -105.25        74.95        84          60   \n",
       "4    provideniya     64.38    -173.30        50.00        71           0   \n",
       "..           ...       ...        ...          ...       ...         ...   \n",
       "537      youghal     51.95      -7.85        54.23        93          75   \n",
       "538      jackson     42.42    -122.83        72.54        41          20   \n",
       "539        yumen     40.28      97.20        80.04        13         100   \n",
       "540       hasaki     35.73     140.83        88.32        48          20   \n",
       "541     syracuse     37.09      15.28        59.00        77           2   \n",
       "\n",
       "     Wind Speed  \n",
       "0          5.58  \n",
       "1         11.30  \n",
       "2          4.10  \n",
       "3          1.24  \n",
       "4          3.00  \n",
       "..          ...  \n",
       "537        2.60  \n",
       "538        3.60  \n",
       "539        7.56  \n",
       "540        7.20  \n",
       "541        3.10  \n",
       "\n",
       "[542 rows x 7 columns]"
      ]
     },
     "execution_count": 9,
     "metadata": {},
     "output_type": "execute_result"
    }
   ],
   "source": [
    "Weather_df.loc[Weather_df[\"Humidity\"] <= 100]\n"
   ]
  },
  {
   "cell_type": "code",
   "execution_count": 10,
   "metadata": {},
   "outputs": [
    {
     "data": {
      "text/plain": [
       "0"
      ]
     },
     "execution_count": 10,
     "metadata": {},
     "output_type": "execute_result"
    }
   ],
   "source": [
    "len(Weather_df.loc[Weather_df[\"Humidity\"] > 100])\n"
   ]
  },
  {
   "cell_type": "markdown",
   "metadata": {},
   "source": [
    "## Inspect the data and remove the cities where the humidity > 100%.\n",
    "----\n",
    "Skip this step if there are no cities that have humidity > 100%. "
   ]
  },
  {
   "cell_type": "code",
   "execution_count": 11,
   "metadata": {},
   "outputs": [],
   "source": [
    "#Dealt above with loc function, checked in the box directly below that one (len Humidity > 100)"
   ]
  },
  {
   "cell_type": "code",
   "execution_count": 12,
   "metadata": {},
   "outputs": [],
   "source": [
    "#  Get the indices of cities that have humidity over 100%.\n",
    "#  Not applicable currently"
   ]
  },
  {
   "cell_type": "code",
   "execution_count": 13,
   "metadata": {},
   "outputs": [],
   "source": [
    "# Make a new DataFrame equal to the city data to drop all humidity outliers by index.\n",
    "# Passing \"inplace=False\" will make a copy of the city_data DataFrame, which we call \"clean_city_data\".\n",
    "# Used loc to clean data above"
   ]
  },
  {
   "cell_type": "code",
   "execution_count": 14,
   "metadata": {},
   "outputs": [],
   "source": [
    "# Extract relevant fields from the data frame\n",
    "# Export the City_Data into a csv\n",
    "\n",
    "Weather_df.to_csv(\"City_Data_2.csv\")"
   ]
  },
  {
   "cell_type": "markdown",
   "metadata": {},
   "source": [
    "## Plotting the Data\n",
    "* Use proper labeling of the plots using plot titles (including date of analysis) and axes labels.\n",
    "* Save the plotted figures as .pngs."
   ]
  },
  {
   "cell_type": "markdown",
   "metadata": {},
   "source": [
    "## Latitude vs. Temperature Plot"
   ]
  },
  {
   "cell_type": "code",
   "execution_count": 15,
   "metadata": {},
   "outputs": [
    {
     "data": {
      "text/plain": [
       "0      59.63\n",
       "1      57.25\n",
       "2      59.50\n",
       "3      74.95\n",
       "4      50.00\n",
       "       ...  \n",
       "537    54.23\n",
       "538    72.54\n",
       "539    80.04\n",
       "540    88.32\n",
       "541    59.00\n",
       "Name: Temperature, Length: 542, dtype: float64"
      ]
     },
     "execution_count": 15,
     "metadata": {},
     "output_type": "execute_result"
    }
   ],
   "source": [
    "Weather_df[\"Latitude\"]\n",
    "Weather_df[\"Temperature\"]"
   ]
  },
  {
   "cell_type": "code",
   "execution_count": 16,
   "metadata": {
    "scrolled": true
   },
   "outputs": [
    {
     "data": {
      "image/png": "[encoded data removed]",
      "text/plain": [
       "<Figure size 432x288 with 1 Axes>"
      ]
     },
     "metadata": {
      "needs_background": "light"
     },
     "output_type": "display_data"
    }
   ],
   "source": [
    "plt.scatter(Weather_df[\"Latitude\"], Weather_df[\"Temperature\"], color = \"blue\")\n",
    "\n",
    "plt.title(\"City Latitude vs. Max Temperature\")\n",
    "plt.xlabel(\"Latitude\")\n",
    "plt.ylabel(\"Max Temperature (F)\")\n",
    "plt.xticks(rotation='vertical')\n",
    "\n",
    "plt.savefig(\"Lat_Temp.png\")\n",
    "\n",
    "plt.show()"
   ]
  },
  {
   "cell_type": "markdown",
   "metadata": {},
   "source": [
    "## Latitude vs. Humidity Plot"
   ]
  },
  {
   "cell_type": "code",
   "execution_count": 17,
   "metadata": {},
   "outputs": [
    {
     "data": {
      "image/png": "[encoded data removed]",
      "text/plain": [
       "<Figure size 432x288 with 1 Axes>"
      ]
     },
     "metadata": {
      "needs_background": "light"
     },
     "output_type": "display_data"
    }
   ],
   "source": [
    "plt.scatter(Weather_df[\"Latitude\"], Weather_df[\"Humidity\"], color = \"blue\")\n",
    "\n",
    "plt.title(\"City Latitude vs. Humidity\")\n",
    "plt.xlabel(\"Latitude\")\n",
    "plt.ylabel(\"Humidity (%)\")\n",
    "plt.xticks(rotation='vertical')\n",
    "\n",
    "plt.savefig(\"Lat_Hum.png\")\n",
    "\n",
    "plt.show()"
   ]
  },
  {
   "cell_type": "markdown",
   "metadata": {},
   "source": [
    "## Latitude vs. Cloudiness Plot"
   ]
  },
  {
   "cell_type": "code",
   "execution_count": 18,
   "metadata": {},
   "outputs": [
    {
     "data": {
      "image/png": "[encoded data removed]",
      "text/plain": [
       "<Figure size 432x288 with 1 Axes>"
      ]
     },
     "metadata": {
      "needs_background": "light"
     },
     "output_type": "display_data"
    }
   ],
   "source": [
    "#from datetime import date\n",
    "#date.today()\n",
    "\n",
    "#fix cloudiness otherwise same as others\n",
    "\n",
    "plt.scatter(Weather_df[\"Latitude\"], Weather_df[\"Cloudiness\"], color = \"blue\")\n",
    "\n",
    "plt.title(\"City Latitude vs. Cloudiness\")\n",
    "plt.xlabel(\"Latitude\")\n",
    "plt.ylabel(\"Cloudiness (%)\")\n",
    "plt.xticks(rotation='vertical')\n",
    "\n",
    "plt.savefig(\"Lat_Cloud.png\")\n",
    "\n",
    "plt.show()"
   ]
  },
  {
   "cell_type": "markdown",
   "metadata": {},
   "source": [
    "## Latitude vs. Wind Speed Plot"
   ]
  },
  {
   "cell_type": "code",
   "execution_count": 19,
   "metadata": {},
   "outputs": [
    {
     "data": {
      "image/png": "[encoded data removed]",
      "text/plain": [
       "<Figure size 432x288 with 1 Axes>"
      ]
     },
     "metadata": {
      "needs_background": "light"
     },
     "output_type": "display_data"
    }
   ],
   "source": [
    "plt.scatter(Weather_df[\"Latitude\"], Weather_df[\"Wind Speed\"], color = \"blue\")\n",
    "\n",
    "plt.title(\"City Latitude vs. Wind Speed\")\n",
    "plt.xlabel(\"Latitude\")\n",
    "plt.ylabel(\"Wind Speed (mph)\")\n",
    "plt.xticks(rotation='vertical')\n",
    "\n",
    "plt.savefig(\"Lat_WS.png\")\n",
    "\n",
    "plt.show()"
   ]
  },
  {
   "cell_type": "markdown",
   "metadata": {},
   "source": [
    "## Linear Regression"
   ]
  },
  {
   "cell_type": "code",
   "execution_count": 20,
   "metadata": {},
   "outputs": [],
   "source": [
    "# OPTIONAL: Create a function to create Linear Regression plots"
   ]
  },
  {
   "cell_type": "code",
   "execution_count": 21,
   "metadata": {},
   "outputs": [],
   "source": [
    "# Create Northern and Southern Hemisphere DataFrames\n",
    "# South, lat < 0; North lat > 0"
   ]
  },
  {
   "cell_type": "markdown",
   "metadata": {},
   "source": [
    "####  Northern Hemisphere - Max Temp vs. Latitude Linear Regression"
   ]
  },
  {
   "cell_type": "code",
   "execution_count": 23,
   "metadata": {},
   "outputs": [],
   "source": [
    "# (slope, intercept, rvalue, pvalue, stderr) = linregress(x_values, y_values)\n",
    "# #print(slope)\n",
    "\n",
    "# #slope = int(slope)\n",
    "# #print(slope)\n",
    "# #print(x_values.type())\n",
    "\n",
    "# #Work around for TypeError: can't multiply sequence by non-int of type 'numpy.float64'\n",
    "\n",
    "# x_values2 = []\n",
    "# for x in x_values:\n",
    "#     x_values2.append(x*slope)   \n",
    "# #print(x_values2)\n",
    "\n",
    "# regress_values = x_values2 + intercept\n",
    "\n",
    "# print(f\"The r value is: {rvalue}\")\n",
    "# print(f\"The r squared value is: {rvalue**2}\")\n",
    "\n",
    "# # ### FIGURE C ### #\n",
    "# line_eq = \"y = \" + str(round(slope, 2)) + \" x + \" + str(round(intercept, 2))\n",
    "# plt.scatter(x_values, y_values)\n",
    "# plt.plot(x_values, regress_values, \"r-\")\n",
    "# plt.annotate(line_eq, (20,36), fontsize=15, color = \"red\")\n",
    "# plt.title(\"Capomulin\")\n",
    "# plt.xlabel(\"Weight (g)\")\n",
    "# plt.ylabel(\"Average Tumor Volume (mm3)\")\n",
    "# plt.show()"
   ]
  },
  {
   "cell_type": "code",
   "execution_count": 24,
   "metadata": {},
   "outputs": [
    {
     "data": {
      "text/html": [
       "<div>\n",
       "<style scoped>\n",
       "    .dataframe tbody tr th:only-of-type {\n",
       "        vertical-align: middle;\n",
       "    }\n",
       "\n",
       "    .dataframe tbody tr th {\n",
       "        vertical-align: top;\n",
       "    }\n",
       "\n",
       "    .dataframe thead th {\n",
       "        text-align: right;\n",
       "    }\n",
       "</style>\n",
       "<table border=\"1\" class=\"dataframe\">\n",
       "  <thead>\n",
       "    <tr style=\"text-align: right;\">\n",
       "      <th></th>\n",
       "      <th>City</th>\n",
       "      <th>Latitude</th>\n",
       "      <th>Longitude</th>\n",
       "      <th>Temperature</th>\n",
       "      <th>Humidity</th>\n",
       "      <th>Cloudiness</th>\n",
       "      <th>Wind Speed</th>\n",
       "    </tr>\n",
       "  </thead>\n",
       "  <tbody>\n",
       "    <tr>\n",
       "      <th>1</th>\n",
       "      <td>cape town</td>\n",
       "      <td>-33.93</td>\n",
       "      <td>18.42</td>\n",
       "      <td>57.25</td>\n",
       "      <td>87</td>\n",
       "      <td>75</td>\n",
       "      <td>11.30</td>\n",
       "    </tr>\n",
       "    <tr>\n",
       "      <th>6</th>\n",
       "      <td>punta arenas</td>\n",
       "      <td>-53.15</td>\n",
       "      <td>-70.92</td>\n",
       "      <td>35.29</td>\n",
       "      <td>80</td>\n",
       "      <td>46</td>\n",
       "      <td>9.30</td>\n",
       "    </tr>\n",
       "    <tr>\n",
       "      <th>12</th>\n",
       "      <td>constitucion</td>\n",
       "      <td>-35.33</td>\n",
       "      <td>-72.42</td>\n",
       "      <td>49.12</td>\n",
       "      <td>65</td>\n",
       "      <td>0</td>\n",
       "      <td>1.28</td>\n",
       "    </tr>\n",
       "    <tr>\n",
       "      <th>16</th>\n",
       "      <td>avarua</td>\n",
       "      <td>-21.21</td>\n",
       "      <td>-159.78</td>\n",
       "      <td>77.00</td>\n",
       "      <td>69</td>\n",
       "      <td>97</td>\n",
       "      <td>5.70</td>\n",
       "    </tr>\n",
       "    <tr>\n",
       "      <th>17</th>\n",
       "      <td>port elizabeth</td>\n",
       "      <td>-33.92</td>\n",
       "      <td>25.57</td>\n",
       "      <td>53.60</td>\n",
       "      <td>76</td>\n",
       "      <td>34</td>\n",
       "      <td>2.60</td>\n",
       "    </tr>\n",
       "    <tr>\n",
       "      <th>...</th>\n",
       "      <td>...</td>\n",
       "      <td>...</td>\n",
       "      <td>...</td>\n",
       "      <td>...</td>\n",
       "      <td>...</td>\n",
       "      <td>...</td>\n",
       "      <td>...</td>\n",
       "    </tr>\n",
       "    <tr>\n",
       "      <th>525</th>\n",
       "      <td>sunbury</td>\n",
       "      <td>-37.58</td>\n",
       "      <td>144.73</td>\n",
       "      <td>59.79</td>\n",
       "      <td>58</td>\n",
       "      <td>40</td>\n",
       "      <td>3.60</td>\n",
       "    </tr>\n",
       "    <tr>\n",
       "      <th>527</th>\n",
       "      <td>mpwapwa</td>\n",
       "      <td>-6.35</td>\n",
       "      <td>36.48</td>\n",
       "      <td>57.90</td>\n",
       "      <td>94</td>\n",
       "      <td>53</td>\n",
       "      <td>1.47</td>\n",
       "    </tr>\n",
       "    <tr>\n",
       "      <th>528</th>\n",
       "      <td>benguela</td>\n",
       "      <td>-12.58</td>\n",
       "      <td>13.41</td>\n",
       "      <td>67.77</td>\n",
       "      <td>84</td>\n",
       "      <td>0</td>\n",
       "      <td>1.99</td>\n",
       "    </tr>\n",
       "    <tr>\n",
       "      <th>531</th>\n",
       "      <td>yantzaza</td>\n",
       "      <td>-3.83</td>\n",
       "      <td>-78.76</td>\n",
       "      <td>64.63</td>\n",
       "      <td>84</td>\n",
       "      <td>48</td>\n",
       "      <td>0.67</td>\n",
       "    </tr>\n",
       "    <tr>\n",
       "      <th>534</th>\n",
       "      <td>nhulunbuy</td>\n",
       "      <td>-12.23</td>\n",
       "      <td>136.77</td>\n",
       "      <td>82.40</td>\n",
       "      <td>65</td>\n",
       "      <td>75</td>\n",
       "      <td>7.20</td>\n",
       "    </tr>\n",
       "  </tbody>\n",
       "</table>\n",
       "<p>177 rows × 7 columns</p>\n",
       "</div>"
      ],
      "text/plain": [
       "               City  Latitude  Longitude  Temperature  Humidity  Cloudiness  \\\n",
       "1         cape town    -33.93      18.42        57.25        87          75   \n",
       "6      punta arenas    -53.15     -70.92        35.29        80          46   \n",
       "12     constitucion    -35.33     -72.42        49.12        65           0   \n",
       "16           avarua    -21.21    -159.78        77.00        69          97   \n",
       "17   port elizabeth    -33.92      25.57        53.60        76          34   \n",
       "..              ...       ...        ...          ...       ...         ...   \n",
       "525         sunbury    -37.58     144.73        59.79        58          40   \n",
       "527         mpwapwa     -6.35      36.48        57.90        94          53   \n",
       "528        benguela    -12.58      13.41        67.77        84           0   \n",
       "531        yantzaza     -3.83     -78.76        64.63        84          48   \n",
       "534       nhulunbuy    -12.23     136.77        82.40        65          75   \n",
       "\n",
       "     Wind Speed  \n",
       "1         11.30  \n",
       "6          9.30  \n",
       "12         1.28  \n",
       "16         5.70  \n",
       "17         2.60  \n",
       "..          ...  \n",
       "525        3.60  \n",
       "527        1.47  \n",
       "528        1.99  \n",
       "531        0.67  \n",
       "534        7.20  \n",
       "\n",
       "[177 rows x 7 columns]"
      ]
     },
     "execution_count": 24,
     "metadata": {},
     "output_type": "execute_result"
    }
   ],
   "source": [
    "Weather_df_N = Weather_df.loc[Weather_df[\"Latitude\"] >= 0]\n",
    "Weather_df_S = Weather_df.loc[Weather_df[\"Latitude\"] < 0]\n",
    "\n",
    "Weather_df_S\n"
   ]
  },
  {
   "cell_type": "code",
   "execution_count": 26,
   "metadata": {},
   "outputs": [
    {
     "data": {
      "image/png": "[encoded data removed]",
      "text/plain": [
       "<Figure size 432x288 with 1 Axes>"
      ]
     },
     "metadata": {
      "needs_background": "light"
     },
     "output_type": "display_data"
    }
   ],
   "source": [
    "plt.scatter(Weather_df_N[\"Latitude\"], Weather_df_N[\"Temperature\"], color = \"blue\")\n",
    "\n",
    "plt.title(\"Northern Hemisphere - City Latitude vs. Temperature\")\n",
    "plt.xlabel(\"Latitude\")\n",
    "plt.ylabel(\"Temperature (F)\")\n",
    "plt.xticks(rotation='vertical')\n",
    "\n",
    "plt.savefig(\"Lat_Temp_N.png\")\n",
    "\n",
    "plt.show()"
   ]
  },
  {
   "cell_type": "markdown",
   "metadata": {},
   "source": [
    "####  Southern Hemisphere - Max Temp vs. Latitude Linear Regression"
   ]
  },
  {
   "cell_type": "code",
   "execution_count": 28,
   "metadata": {},
   "outputs": [
    {
     "data": {
      "image/png": "[encoded data removed]",
      "text/plain": [
       "<Figure size 432x288 with 1 Axes>"
      ]
     },
     "metadata": {
      "needs_background": "light"
     },
     "output_type": "display_data"
    }
   ],
   "source": [
    "plt.scatter(Weather_df_S[\"Latitude\"], Weather_df_S[\"Temperature\"], color = \"blue\")\n",
    "\n",
    "plt.title(\"Southern Hemisphere - City Latitude vs. Temperature\")\n",
    "plt.xlabel(\"Latitude\")\n",
    "plt.ylabel(\"Temperature (F)\")\n",
    "plt.xticks(rotation='vertical')\n",
    "\n",
    "plt.savefig(\"Lat_Temp_S.png\")\n",
    "\n",
    "plt.show()"
   ]
  },
  {
   "cell_type": "markdown",
   "metadata": {},
   "source": [
    "####  Northern Hemisphere - Humidity (%) vs. Latitude Linear Regression"
   ]
  },
  {
   "cell_type": "code",
   "execution_count": 29,
   "metadata": {},
   "outputs": [
    {
     "data": {
      "image/png": "[encoded data removed]",
      "text/plain": [
       "<Figure size 432x288 with 1 Axes>"
      ]
     },
     "metadata": {
      "needs_background": "light"
     },
     "output_type": "display_data"
    }
   ],
   "source": [
    "plt.scatter(Weather_df_N[\"Latitude\"], Weather_df_N[\"Humidity\"], color = \"blue\")\n",
    "\n",
    "plt.title(\"Northern Hemisphere - City Latitude vs. Humidity\")\n",
    "plt.xlabel(\"Latitude\")\n",
    "plt.ylabel(\"Humidity (%)\")\n",
    "plt.xticks(rotation='vertical')\n",
    "\n",
    "plt.savefig(\"Lat_Hum_N.png\")\n",
    "\n",
    "plt.show()"
   ]
  },
  {
   "cell_type": "markdown",
   "metadata": {},
   "source": [
    "####  Southern Hemisphere - Humidity (%) vs. Latitude Linear Regression"
   ]
  },
  {
   "cell_type": "code",
   "execution_count": 30,
   "metadata": {},
   "outputs": [
    {
     "data": {
      "image/png": "[encoded data removed]",
      "text/plain": [
       "<Figure size 432x288 with 1 Axes>"
      ]
     },
     "metadata": {
      "needs_background": "light"
     },
     "output_type": "display_data"
    }
   ],
   "source": [
    "plt.scatter(Weather_df_S[\"Latitude\"], Weather_df_S[\"Humidity\"], color = \"blue\")\n",
    "\n",
    "plt.title(\"Southern Hemisphere - City Latitude vs. Humidity\")\n",
    "plt.xlabel(\"Latitude\")\n",
    "plt.ylabel(\"Humidity (%)\")\n",
    "plt.xticks(rotation='vertical')\n",
    "\n",
    "plt.savefig(\"Lat_Hum_S.png\")\n",
    "\n",
    "plt.show()"
   ]
  },
  {
   "cell_type": "markdown",
   "metadata": {},
   "source": [
    "####  Northern Hemisphere - Cloudiness (%) vs. Latitude Linear Regression"
   ]
  },
  {
   "cell_type": "code",
   "execution_count": 31,
   "metadata": {},
   "outputs": [
    {
     "data": {
      "image/png": "[encoded data removed]",
      "text/plain": [
       "<Figure size 432x288 with 1 Axes>"
      ]
     },
     "metadata": {
      "needs_background": "light"
     },
     "output_type": "display_data"
    }
   ],
   "source": [
    "plt.scatter(Weather_df_N[\"Latitude\"], Weather_df_N[\"Cloudiness\"], color = \"blue\")\n",
    "\n",
    "plt.title(\"Northern Hemisphere - City Latitude vs. Cloudiness\")\n",
    "plt.xlabel(\"Latitude\")\n",
    "plt.ylabel(\"Cloudiness (%)\")\n",
    "plt.xticks(rotation='vertical')\n",
    "\n",
    "plt.savefig(\"Lat_Cloud_N.png\")\n",
    "\n",
    "plt.show()"
   ]
  },
  {
   "cell_type": "markdown",
   "metadata": {},
   "source": [
    "####  Southern Hemisphere - Cloudiness (%) vs. Latitude Linear Regression"
   ]
  },
  {
   "cell_type": "code",
   "execution_count": 32,
   "metadata": {},
   "outputs": [
    {
     "data": {
      "image/png": "[encoded data removed]",
      "text/plain": [
       "<Figure size 432x288 with 1 Axes>"
      ]
     },
     "metadata": {
      "needs_background": "light"
     },
     "output_type": "display_data"
    }
   ],
   "source": [
    "plt.scatter(Weather_df_S[\"Latitude\"], Weather_df_S[\"Cloudiness\"], color = \"blue\")\n",
    "\n",
    "plt.title(\"Southern Hemisphere - City Latitude vs. Cloudiness\")\n",
    "plt.xlabel(\"Latitude\")\n",
    "plt.ylabel(\"Cloudiness (%)\")\n",
    "plt.xticks(rotation='vertical')\n",
    "\n",
    "plt.savefig(\"Lat_Cloud_S.png\")\n",
    "\n",
    "plt.show()"
   ]
  },
  {
   "cell_type": "markdown",
   "metadata": {},
   "source": [
    "####  Northern Hemisphere - Wind Speed (mph) vs. Latitude Linear Regression"
   ]
  },
  {
   "cell_type": "code",
   "execution_count": 33,
   "metadata": {},
   "outputs": [
    {
     "data": {
      "image/png": "[encoded data removed]",
      "text/plain": [
       "<Figure size 432x288 with 1 Axes>"
      ]
     },
     "metadata": {
      "needs_background": "light"
     },
     "output_type": "display_data"
    }
   ],
   "source": [
    "plt.scatter(Weather_df_N[\"Latitude\"], Weather_df_N[\"Wind Speed\"], color = \"blue\")\n",
    "\n",
    "plt.title(\"Northern Hemisphere - City Latitude vs. Wind Speed\")\n",
    "plt.xlabel(\"Latitude\")\n",
    "plt.ylabel(\"Wind Speed (mph)\")\n",
    "plt.xticks(rotation='vertical')\n",
    "\n",
    "plt.savefig(\"Lat_WS_N.png\")\n",
    "\n",
    "plt.show()"
   ]
  },
  {
   "cell_type": "markdown",
   "metadata": {},
   "source": [
    "####  Southern Hemisphere - Wind Speed (mph) vs. Latitude Linear Regression"
   ]
  },
  {
   "cell_type": "code",
   "execution_count": 34,
   "metadata": {},
   "outputs": [
    {
     "data": {
      "image/png": "[encoded data removed]",
      "text/plain": [
       "<Figure size 432x288 with 1 Axes>"
      ]
     },
     "metadata": {
      "needs_background": "light"
     },
     "output_type": "display_data"
    }
   ],
   "source": [
    "plt.scatter(Weather_df_S[\"Latitude\"], Weather_df_S[\"Wind Speed\"], color = \"blue\")\n",
    "\n",
    "plt.title(\"Southern Hemisphere - City Latitude vs. Wind Speed\")\n",
    "plt.xlabel(\"Latitude\")\n",
    "plt.ylabel(\"Wind Speed (mph)\")\n",
    "plt.xticks(rotation='vertical')\n",
    "\n",
    "plt.savefig(\"Lat_WS_S.png\")\n",
    "\n",
    "plt.show()"
   ]
  },
  {
   "cell_type": "code",
   "execution_count": null,
   "metadata": {},
   "outputs": [],
   "source": []
  },
  {
   "cell_type": "code",
   "execution_count": null,
   "metadata": {},
   "outputs": [],
   "source": []
  },
  {
   "cell_type": "code",
   "execution_count": null,
   "metadata": {},
   "outputs": [],
   "source": []
  },
  {
   "cell_type": "code",
   "execution_count": null,
   "metadata": {},
   "outputs": [],
   "source": []
  },
  {
   "cell_type": "code",
   "execution_count": null,
   "metadata": {},
   "outputs": [],
   "source": [
    "#Notes\n",
    "# url = \"http://api.openweathermap.org/data/2.5/weather?\"\n",
    "# x=\"rikitea\"\n",
    "\n",
    "# query_url = url + \"appid=\" + weather_api_key + \"&q=\" + x\n",
    "# weather_response = requests.get(query_url)\n",
    "# weather_json = weather_response.json()\n",
    "# weather_json\n",
    "\n",
    "# #if weather_json != \"\":\n",
    "# #    print(\"stuff here\")\n",
    "\n",
    "# if weather_json[\"cod\"] != \"404\":\n",
    "#     print(\"stuff here\")\n",
    "    \n",
    "# if weather_json[\"cod\"] == \"404\":\n",
    "#     print(\"404\")\n",
    "\n",
    "# weather_json[\"clouds\"][\"all\"]\n",
    "\n",
    "# #[\"wind\"][\"speed\"][\"all\"]\n",
    "    \n",
    "\n",
    "# weather_json[\"\"]\n",
    "\n",
    "#     Humidity.append(weather_json[\"main\"][\"humidity\"])\n",
    "#     preround = ((weather_json[\"main\"][\"temp\"]) - 273.15)*(9/5)+32\n",
    "#     preround = round(preround,2)\n",
    "#     Temperature.append(preround)\n",
    "#     Latitude.append(weather_json[\"coord\"][\"lat\"])\n",
    "#     Longitude.append(weather_json[\"coord\"][\"lon\"])\n",
    "#     Cloudiness.append(weather_json[\"clouds\"])\n",
    "#     WindSpeed.append(weather_json[\"wind\"][\"speed\"])"
   ]
  }
 ],
 "metadata": {
  "anaconda-cloud": {},
  "kernel_info": {
   "name": "python3"
  },
  "kernelspec": {
   "display_name": "Python 3",
   "language": "python",
   "name": "python3"
  },
  "language_info": {
   "codemirror_mode": {
    "name": "ipython",
    "version": 3
   },
   "file_extension": ".py",
   "mimetype": "text/x-python",
   "name": "python",
   "nbconvert_exporter": "python",
   "pygments_lexer": "ipython3",
   "version": "3.7.6"
  },
  "latex_envs": {
   "LaTeX_envs_menu_present": true,
   "autoclose": false,
   "autocomplete": true,
   "bibliofile": "biblio.bib",
   "cite_by": "apalike",
   "current_citInitial": 1,
   "eqLabelWithNumbers": true,
   "eqNumInitial": 1,
   "hotkeys": {
    "equation": "Ctrl-E",
    "itemize": "Ctrl-I"
   },
   "labels_anchors": false,
   "latex_user_defs": false,
   "report_style_numbering": false,
   "user_envs_cfg": false
  },
  "nteract": {
   "version": "0.12.3"
  }
 },
 "nbformat": 4,
 "nbformat_minor": 2
}
